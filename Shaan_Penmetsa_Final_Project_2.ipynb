{
 "cells": [
  {
   "cell_type": "markdown",
   "metadata": {},
   "source": [
    "Project Problem and Hypothesis\n",
    "\n",
    "This project is intended to evaluate the factors contributing to the determination of hospital charges to treat patients based on their diagnosis. An understanding of these factors may help with a greater understanding of what is driving the huge variability in charges from hospitals to treat similar patient cases.\n",
    "\n",
    "The predictor here is the hospital's \"Average Covered Charge\" which is the average charge per patient for services provided by the hospital that are covered under Medicare for each DRG (a way of grouping patients based on their diagnosis). There are two main levers in the Average Covered Charge--the services the hospital provides and the price of those services. Services rendered to treat patients within the same DRG can vary for many reasons: physicians in some areas may be trained to run certain tests while others are not; some hospitals may have more advanced medical equipment and utilize them in more cases than not; some patients may require different types of treatment based on their health; and so on. The price of each service is set at each hospital, in the same way that two groceries might set different prices for the same food. However, how hospitals price their services is much murkier and variable. Of course, many considerations for pricing apply to hospitals as they do for groceries: what was the cost of the good provided, labor costs, etc. But there are many factors that likely contribute to variability in hospital pricing that one does not see at supermarkets: the consumer (patient) is not paying the majority of the costs so they are not very price sensitive; there is little price transparency and typically less choice in hospitals, so consumers cannot really shop around even if they wanted to; there is an information asymmetry (the patient has no idea what course of treatment is necessary compared to the provider of the service, the physician); and much more. For this project, we will not be breaking out the Average Covered Charge at the service-level to determine if higher charges at certain hospitals can be explained by the fact that they are providing more services (i.e. tests, procedures, consultations) or charging more for the services. We will try to predict the Average Covered Charge for a specific DRG based on hospital characteristics, characteristics of their patients, and characteristics of the areas they serve.\n",
    "\n",
    "This is a very complex question that we will not even come close to solving with this project. It might not even be a question that is solveable with the data available, as a large portion of hospital revenue comes from private payors, data that is not publically available. How hospitals determine their prices and typical services rendered is certainly impacted by the nature of their relationships with private payors in their area. However, we do hope to understand better some of the causes of variability.\n",
    "\n",
    "I hypothesize several different features will have an impact in predicting the Average Covered Charge per DRG: 1) Hospital non-profit status; 2) Hospital teaching status; 3) Proportion of patients as Medicare patients; 4) Hospital's market concentration. What might be more telling that the features hypothesized to have an impact is the set of features that are not included: quality and outcomes measures for the hospital's patients.\n",
    "\n",
    "\n"
   ]
  },
  {
   "cell_type": "markdown",
   "metadata": {},
   "source": [
    "Datasets \n",
    "\n",
    "Medicare Inpatient Provider Charge FY 2014\n",
    "    DRG Definition: The code and description identifying the MS-DRG. MS-DRGs are a classification system\n",
    "    that groups similar clinical conditions (diagnoses) and the procedures furnished by the hospital during\n",
    "    the stay.\n",
    "    Provider Id: The CMS Certification Number (CCN) assigned to the Medicare certified hospital facility.\n",
    "    Provider Name: The name of the provider.\n",
    "    Provider Street Address: The provider’s street address.\n",
    "    Provider City: The city where the provider is located.\n",
    "    Provider State: The state where the provider is located.\n",
    "    Provider Zip Code: The provider’s zip code.\n",
    "    Provider HRR: The Hospital Referral Region (HRR) where the provider is located.\n",
    "    Total Discharges: The number of discharges billed by the provider for inpatient hospital services.\n",
    "    Average Covered Charges: The provider's average charge for services covered by Medicare for all\n",
    "    discharges in the MS-DRG. These will vary from hospital to hospital because of differences in hospital\n",
    "    charge structures.\n",
    "    Average Total Payments: The average total payments to all providers for the MS-DRG including the MSDRG\n",
    "    amount, teaching, disproportionate share, capital, and outlier payments for all cases. Also included\n",
    "    in average total payments are co-payment and deductible amounts that the patient is responsible for\n",
    "    and any additional payments by third parties for coordination of benefits.\n",
    "    Average Medicare Payments: The average amount that Medicare pays to the provider for Medicare's\n",
    "    share of the MS-DRG. Average Medicare payment amounts include the MS-DRG amount,\n",
    "    teaching, disproportionate share, capital, and outlier payments for all cases. Medicare payments DO\n",
    "    NOT include beneficiary co-payments and deductible amounts nor any additional payments from third\n",
    "    parties for coordination of benefits.\n",
    "\n",
    "Definitive Healthcare Hospital \n",
    "    Finacial Data\n",
    "    Payor Mix\n",
    "\n",
    "Other CMS Datasets\n",
    "    BCPI Participants\n",
    "    Hospital Compare Outcomes Measures\n",
    "    Hospital Compare Efficiency Measures (aka MSPB)\n",
    "    Hospital Compare Safety Measures\n",
    "    Hospital Compare Satisfaction Measures\n",
    "    \n",
    "\n"
   ]
  },
  {
   "cell_type": "markdown",
   "metadata": {},
   "source": [
    "Doman Knowledge\n",
    "\n",
    "From a combination of a undergraduate course in healthcare economics and generally reading about healthcare policy, insurance, and hospital structure as I work in the healthcare industry, I have some domain knowledge. However, I have no experience evaluating hospital charges. I have worked with some Medicare data in the past, but that has mainly been focusing on hospital quality measure. \n",
    "\n",
    "There has been extensive work done since the dataset was first made publicly available to explore and visualize it. Check out this great visualization from NYT: http://www.nytimes.com/interactive/2013/05/08/business/how-much-hospitals-charge.html?_r=0. \n",
    "\n",
    "However, I have not come across any models to predict what a hospital may charge, as it is not necessarily a valuable number to predict. Akin to the MSRP on cars, no one, and certainly not Medicare, pays the full hospital charge. They are simply a jumping off point for negotiations between the hospital and private insurers (Medicare sets the amounts they will pay hospitals prospectively). So a private insurer may end up paying two hospitals that have different charges the same amount, based on their agreement with each hospital. As such, what we are predciting here may have little real-world importance. "
   ]
  },
  {
   "cell_type": "markdown",
   "metadata": {},
   "source": [
    "Project Concerns\n",
    "\n",
    "I've mentioned a couple items that limit both the potential and usefulness of the project (lack of data from private payors, semi-meaningnessless of the hospitals stated charges). I've also mentioned the huge complexity of this problem. The hospital characteristics and patient mix characterstics are from 2016, whereas the charge data was last refreshed in 2014, so we are assuming those have not changed much. However, the data for this project is robust and meaningful--it covers every hospital in the US that receives Medicare payments, and all joins were made at the same level of granularity and without duplication. \n",
    "\n",
    "Another concern for this project is the lack of features that accurately measure the quality of care the hospital provides. We mentioned earlier that we believe the quality measures available to not be indicative of the hospital's charges, but that is in part to the difficulty of measuring the quality of healthcare services. There are many parts of a patient's recovery that are well outside the hospital's control. Even two reasonable and well-trained physicians can have different opinions on the best course of treatment for the same patient, because there is no perfect answer on what will maximize quality of health while keeping costs controlled. \n",
    "\n",
    "If the model is wrong, we may improperly characterize some hospitals as \"over-charging,\" which would be unfair. If it is right, we may understand better what factors contribute to hospital charges and group those hospitals together for further analysis of cost-effectiveness of treatments.\n"
   ]
  },
  {
   "cell_type": "markdown",
   "metadata": {},
   "source": [
    "Outcomes\n",
    "\n",
    "I expect the output to be a determination of the features that are potentially indicative of a hospital's total charges. The target audience would expect a list of the features included, their impact on the predictor, and the CI for their coefficients. \n",
    "\n",
    "I do not expect much gain from the most important feature alone. This will be a somewhat complicated model in the number of features included. I don't think there has to be a strong fit for the project to be considered successful--simply visualizing the joined data and understanding the impact of the features can be very telling."
   ]
  }
 ],
 "metadata": {
  "kernelspec": {
   "display_name": "Python 2",
   "language": "python",
   "name": "python2"
  },
  "language_info": {
   "codemirror_mode": {
    "name": "ipython",
    "version": 2
   },
   "file_extension": ".py",
   "mimetype": "text/x-python",
   "name": "python",
   "nbconvert_exporter": "python",
   "pygments_lexer": "ipython2",
   "version": "2.7.13"
  }
 },
 "nbformat": 4,
 "nbformat_minor": 2
}
